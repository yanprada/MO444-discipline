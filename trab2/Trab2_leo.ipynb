{
 "cells": [
  {
   "cell_type": "markdown",
   "id": "demanding-dream",
   "metadata": {},
   "source": [
    "# Tarefa 2 - Parte 2\n",
    "MO444A - Aprendizado de Máquina e Reconhecimento de Padrões\n",
    "\n",
    "> Aplicação de métodos de aprendizado supervisionado para resolver problemas de predição e classificação\n",
    "\n",
    "__Alunos__:\n",
    "\n",
    "- Leonardo Augusto Silva Bernardes - RA: 233548<br>\n",
    "Desenvolveu a parte 2 do trabalho e revisou a parte 1.\n",
    "\n",
    "\n",
    "- Yan Prada - RA: 118982<br>\n",
    "Desenvolveu a parte 1 do trabalho e revisou a parte 2.\n",
    "\n",
    "Tivemos reuniões para que cada um explicasse o que estava fazendo, enquanto o outro sugerisse ou resolvesse dúvidas pendentes.\n"
   ]
  },
  {
   "cell_type": "code",
   "execution_count": 1,
   "id": "complex-scholar",
   "metadata": {},
   "outputs": [],
   "source": [
    "import pandas as pd\n",
    "import numpy as np\n",
    "import matplotlib.pyplot as plt\n",
    "import seaborn as sn\n",
    "from sklearn.model_selection import cross_validate\n",
    "from sklearn.model_selection import KFold\n",
    "from sklearn.model_selection import StratifiedKFold\n",
    "from sklearn.model_selection import GridSearchCV"
   ]
  },
  {
   "cell_type": "markdown",
   "id": "covered-matter",
   "metadata": {},
   "source": [
    "- __Carregando o dataset__\n",
    "\n",
    "Como o dataset é nativo do sklearn os dados já vem separados em \"data\" (dados de entrada) e \"target\" (variável resposta)"
   ]
  },
  {
   "cell_type": "code",
   "execution_count": 2,
   "id": "saving-favorite",
   "metadata": {},
   "outputs": [],
   "source": [
    "from sklearn.datasets import load_digits\n",
    "digits = load_digits()"
   ]
  },
  {
   "cell_type": "code",
   "execution_count": 3,
   "id": "waiting-language",
   "metadata": {},
   "outputs": [],
   "source": [
    "X = digits.data\n",
    "y = digits.target"
   ]
  },
  {
   "cell_type": "markdown",
   "id": "injured-myanmar",
   "metadata": {},
   "source": [
    "Dimensões das features de entrada e da varíavel target"
   ]
  },
  {
   "cell_type": "code",
   "execution_count": 4,
   "id": "romantic-digit",
   "metadata": {},
   "outputs": [
    {
     "name": "stdout",
     "output_type": "stream",
     "text": [
      "X: (1797, 64)\n",
      "y: (1797,)\n"
     ]
    }
   ],
   "source": [
    "print('X:',X.shape)\n",
    "print('y:',y.shape)"
   ]
  },
  {
   "cell_type": "markdown",
   "id": "fluid-namibia",
   "metadata": {},
   "source": [
    "Analisando a quantidade de amostras por dígito para verificar o balanceamento entre as classes. Conclui-se que as classes são balanceadas"
   ]
  },
  {
   "cell_type": "code",
   "execution_count": 5,
   "id": "provincial-substance",
   "metadata": {},
   "outputs": [
    {
     "data": {
      "text/plain": [
       "{0: 178,\n",
       " 1: 182,\n",
       " 2: 177,\n",
       " 3: 183,\n",
       " 4: 181,\n",
       " 5: 182,\n",
       " 6: 181,\n",
       " 7: 179,\n",
       " 8: 174,\n",
       " 9: 180}"
      ]
     },
     "execution_count": 5,
     "metadata": {},
     "output_type": "execute_result"
    }
   ],
   "source": [
    "unique, counts = np.unique(y, return_counts=True)\n",
    "dict(zip(unique, counts))"
   ]
  },
  {
   "cell_type": "markdown",
   "id": "stretch-glory",
   "metadata": {},
   "source": [
    "Redução dos dados para 2 dimensões utilizando UMAP"
   ]
  },
  {
   "cell_type": "code",
   "execution_count": 6,
   "id": "hollywood-death",
   "metadata": {},
   "outputs": [
    {
     "data": {
      "text/plain": [
       "(1797, 2)"
      ]
     },
     "execution_count": 6,
     "metadata": {},
     "output_type": "execute_result"
    }
   ],
   "source": [
    "import umap\n",
    "\n",
    "reducer = umap.UMAP()\n",
    "embedding = reducer.fit_transform(X)\n",
    "embedding.shape"
   ]
  },
  {
   "cell_type": "markdown",
   "id": "subtle-information",
   "metadata": {},
   "source": [
    "Plot dos dados reduzidos"
   ]
  },
  {
   "cell_type": "code",
   "execution_count": 7,
   "id": "bibliographic-possibility",
   "metadata": {},
   "outputs": [
    {
     "data": {
      "image/png": "[encoded data removed]",
      "text/plain": [
       "<Figure size 432x288 with 2 Axes>"
      ]
     },
     "metadata": {
      "needs_background": "light"
     },
     "output_type": "display_data"
    }
   ],
   "source": [
    "plt.scatter(embedding[:, 0], embedding[:, 1], c=digits.target, cmap='Spectral', s=5)\n",
    "plt.gca().set_aspect('equal', 'datalim')\n",
    "plt.colorbar(boundaries=np.arange(11)-0.5).set_ticks(np.arange(10))\n",
    "plt.title('UMAP', fontsize=18);"
   ]
  },
  {
   "cell_type": "markdown",
   "id": "alpine-translation",
   "metadata": {},
   "source": [
    "Split dos dados entre treino e teste mantendo 90% para treino e 10% para testes"
   ]
  },
  {
   "cell_type": "code",
   "execution_count": 8,
   "id": "secure-mathematics",
   "metadata": {},
   "outputs": [],
   "source": [
    "from sklearn.model_selection import train_test_split\n",
    "\n",
    "X_train, X_test, y_train, y_test = train_test_split(X, y, test_size = 0.1, random_state=42)"
   ]
  },
  {
   "cell_type": "markdown",
   "id": "naked-egyptian",
   "metadata": {},
   "source": [
    "__1º modelo supervisionado: Regressão Logística__"
   ]
  },
  {
   "cell_type": "markdown",
   "id": "laughing-repair",
   "metadata": {},
   "source": [
    "Implementação do modelo de regressão logística utilizando Kfold e cross_validate.\n",
    "\n",
    "Para o Kfold foi utilizado um fold igual a 5, ou seja, os dados serão particionados em 5 \"partes\" iguais e em cada uma delas será treinado e validado através dos conjuntos de dados x_train e y_train.\n",
    "\n",
    "A métrica utilizada como retorno foi a própria acurácia, pois, dado o problema que queremos resolver de classificação de dígitos o que mais nos interesse é se a classificação foi feita correta ou não, e também, pelo fato dos dados serem balanceados não há problemas em utilizar a acurácia."
   ]
  },
  {
   "cell_type": "code",
   "execution_count": 9,
   "id": "interested-creation",
   "metadata": {},
   "outputs": [
    {
     "name": "stdout",
     "output_type": "stream",
     "text": [
      "Acurácia - Base de Treino: 0.9967531745661754\n",
      "Acurácia - Base de Validação: 0.9536215265833429\n"
     ]
    }
   ],
   "source": [
    "from sklearn.linear_model import LogisticRegression\n",
    "\n",
    "KFold = KFold(n_splits=5)\n",
    "\n",
    "model_lr = LogisticRegression(solver='liblinear')\n",
    "result_lr = cross_validate(model_lr, X_train, y_train, cv=KFold, scoring='accuracy', return_train_score=True)\n",
    "    \n",
    "print('Acurácia - Base de Treino:',result_lr['train_score'].mean())\n",
    "print('Acurácia - Base de Validação:',result_lr['test_score'].mean())"
   ]
  },
  {
   "cell_type": "markdown",
   "id": "southeast-burton",
   "metadata": {},
   "source": [
    "Teste utilizando o StratifiedKfold que é bastante indicado para problemas de classificação, no qual ele mantém a mesma proporção entre as classes nos k folds."
   ]
  },
  {
   "cell_type": "code",
   "execution_count": 10,
   "id": "present-stake",
   "metadata": {},
   "outputs": [
    {
     "name": "stdout",
     "output_type": "stream",
     "text": [
      "Acurácia - Base de Treino: 0.9972168530824043\n",
      "Acurácia - Base de Validação: 0.9529927760577914\n"
     ]
    }
   ],
   "source": [
    "StratKFold = StratifiedKFold(n_splits=5)\n",
    "\n",
    "model_lr = LogisticRegression(solver='liblinear')\n",
    "result_lr = cross_validate(model_lr, X_train, y_train, cv=StratKFold, scoring='accuracy', return_train_score=True)\n",
    "    \n",
    "print('Acurácia - Base de Treino:',result_lr['train_score'].mean())\n",
    "print('Acurácia - Base de Validação:',result_lr['test_score'].mean())"
   ]
  },
  {
   "cell_type": "markdown",
   "id": "tribal-lounge",
   "metadata": {},
   "source": [
    "Os resultados das métricas apresentadas tanto na base de treino e quanto na base de validação apresentaram uma boa capacidade de generalização e não há evidências de overfitting ou underfitting. "
   ]
  },
  {
   "cell_type": "markdown",
   "id": "cooked-setup",
   "metadata": {},
   "source": [
    "Utilização do GridSearchCV para a busca dos melhores hiperparâmetros.\n",
    "\n",
    "O GridSerachCV testa todas as combinações possíveis de hiperparâmetros e retorna quais alcançaram um melhor score.\n",
    "\n",
    "Os hiperparâmetros testados para a regressão logística foram:\n",
    "\n",
    "__C__: o parâmetro de regularização<br>\n",
    "__penalty__: tipo de penalização l1 (lasso) ou l2 (ridge)"
   ]
  },
  {
   "cell_type": "code",
   "execution_count": 11,
   "id": "informal-cylinder",
   "metadata": {},
   "outputs": [
    {
     "name": "stdout",
     "output_type": "stream",
     "text": [
      "Melhor acuracia: 0.9653613882200054\n",
      "C: 0.1\n",
      "Penalty: l1\n"
     ]
    }
   ],
   "source": [
    "valores_C = np.array([0.01, 0.05, 0.1, 0.5, 1, 2, 3, 5, 10, 20, 50, 100])\n",
    "#valores_max_iter = np.array([50, 100, 200, 300, 400, 500, 600, 700, 800, 900, 1000])\n",
    "regularizacao = ['l1','l2']\n",
    "#valores_grid = {'C':valores_C, 'penalty':regularizacao, 'max_iter':valores_max_iter}\n",
    "valores_grid = {'C':valores_C, 'penalty':regularizacao}\n",
    "\n",
    "model_lr = LogisticRegression(solver='liblinear')\n",
    "\n",
    "grid_model_lr = GridSearchCV(estimator=model_lr, param_grid=valores_grid, scoring='accuracy', cv=5)\n",
    "grid_model_lr.fit(X_train,y_train)\n",
    "\n",
    "print('Melhor acuracia:',grid_model_lr.best_score_)\n",
    "print('C:',grid_model_lr.best_estimator_.C)\n",
    "print('Penalty:',grid_model_lr.best_estimator_.penalty)"
   ]
  },
  {
   "cell_type": "markdown",
   "id": "alert-electron",
   "metadata": {},
   "source": [
    "Treinamento do modelo de regressão logística utilizando os melhores hiperparâmetros encontrados"
   ]
  },
  {
   "cell_type": "code",
   "execution_count": 12,
   "id": "weekly-parallel",
   "metadata": {},
   "outputs": [
    {
     "data": {
      "text/plain": [
       "LogisticRegression(C=0.1, penalty='l1', solver='liblinear')"
      ]
     },
     "execution_count": 12,
     "metadata": {},
     "output_type": "execute_result"
    }
   ],
   "source": [
    "model_lr = LogisticRegression(solver='liblinear', C=0.1, penalty='l1')\n",
    "model_lr.fit(X_train,y_train)"
   ]
  },
  {
   "cell_type": "markdown",
   "id": "passing-juice",
   "metadata": {},
   "source": [
    "__2º modelo supervisionado: Árvore de Decisão__"
   ]
  },
  {
   "cell_type": "markdown",
   "id": "lasting-cedar",
   "metadata": {},
   "source": [
    "Implementação do modelo de árvore de decisão utilizando os mesmos métodos de Kfold e cross_validate e a mesma divisão de 5 folds.\n",
    "\n",
    "A métrica utilizada como retorno também foi a acurácia pelos mesmos motivos citados no modelo de regressão logística."
   ]
  },
  {
   "cell_type": "code",
   "execution_count": 13,
   "id": "protective-token",
   "metadata": {},
   "outputs": [
    {
     "name": "stdout",
     "output_type": "stream",
     "text": [
      "Acurácia - Base de Treino: 0.9972168530824043\n",
      "Acurácia - Base de Validação: 0.9529927760577914\n"
     ]
    }
   ],
   "source": [
    "from sklearn.model_selection import KFold\n",
    "from sklearn.tree import DecisionTreeClassifier\n",
    "\n",
    "KFold = KFold(n_splits=5)\n",
    "\n",
    "model_dt = DecisionTreeClassifier()\n",
    "result_dt = cross_validate(model_dt, X_train, y_train, cv=KFold, scoring='accuracy', return_train_score=True)\n",
    "    \n",
    "print('Acurácia - Base de Treino:',result_lr['train_score'].mean())\n",
    "print('Acurácia - Base de Validação:',result_lr['test_score'].mean())"
   ]
  },
  {
   "cell_type": "markdown",
   "id": "pleasant-bottom",
   "metadata": {},
   "source": [
    "Teste utilizando o StratifiedKfold que é bastante indicado para problemas de classificação, no qual ele mantém a mesma proporção entre as classes nos k folds."
   ]
  },
  {
   "cell_type": "code",
   "execution_count": 14,
   "id": "relevant-browse",
   "metadata": {},
   "outputs": [
    {
     "name": "stdout",
     "output_type": "stream",
     "text": [
      "Acurácia - Base de Treino: 0.9972168530824043\n",
      "Acurácia - Base de Validação: 0.9529927760577914\n"
     ]
    }
   ],
   "source": [
    "StratKFold = StratifiedKFold(n_splits=5)\n",
    "\n",
    "model_dt = DecisionTreeClassifier()\n",
    "result_dt = cross_validate(model_dt, X_train, y_train, cv=KFold, scoring='accuracy', return_train_score=True)\n",
    "    \n",
    "print('Acurácia - Base de Treino:',result_lr['train_score'].mean())\n",
    "print('Acurácia - Base de Validação:',result_lr['test_score'].mean())"
   ]
  },
  {
   "cell_type": "markdown",
   "id": "immune-terrain",
   "metadata": {},
   "source": [
    "Para o algoritmo de árvores de decisão os resultados das métricas apresentadas tanto na base de treino e quanto na base de validação também apresentaram uma boa capacidade de generalização e não há evidências de overfitting ou underfitting. "
   ]
  },
  {
   "cell_type": "markdown",
   "id": "fluid-battle",
   "metadata": {},
   "source": [
    "Utilização do GridSearchCV para a busca dos melhores hiperparâmetros.\n",
    "\n",
    "Os hiperparâmetros testados para a regressão logística foram:\n",
    "\n",
    "__min_samples_split___: número de amostras mínimas para considerar um nó para divisão<br>\n",
    "__max_depth__: profundidade máxima da árvore<br>\n",
    "__criterion__: medida de qualidade do split para o cálculo de ganho de informação"
   ]
  },
  {
   "cell_type": "code",
   "execution_count": 15,
   "id": "chemical-capture",
   "metadata": {},
   "outputs": [
    {
     "name": "stdout",
     "output_type": "stream",
     "text": [
      "Melhor acuracia: 0.8602281848411879\n",
      "min_samples_split: 2\n",
      "max_depth: 11\n",
      "criterion: entropy\n"
     ]
    }
   ],
   "source": [
    "min_samples = np.array([2,3,4,5,6,7,8,9,10,11,12,13,14,15])\n",
    "max_depth = np.array([2,3,4,5,6,7,8,9,10,11,12,13,14,15])\n",
    "algorit = ['gini','entropy']\n",
    "valores_grid = {'min_samples_split':min_samples,'max_depth':max_depth,'criterion':algorit}\n",
    "\n",
    "model_dt = DecisionTreeClassifier()\n",
    "\n",
    "grid_model_dt = GridSearchCV(estimator=model_dt, param_grid=valores_grid, cv=5, scoring='accuracy')\n",
    "grid_model_dt.fit(X_train,y_train)\n",
    "\n",
    "print('Melhor acuracia:',grid_model_dt.best_score_)\n",
    "print('min_samples_split:',grid_model_dt.best_estimator_.min_samples_split)\n",
    "print('max_depth:',grid_model_dt.best_estimator_.max_depth)\n",
    "print('criterion:',grid_model_dt.best_estimator_.criterion)"
   ]
  },
  {
   "cell_type": "markdown",
   "id": "modified-thursday",
   "metadata": {},
   "source": [
    "Treinamento do modelo de árvore de decisão utilizando os melhores hiperparâmetros encontrados"
   ]
  },
  {
   "cell_type": "code",
   "execution_count": 16,
   "id": "raising-tower",
   "metadata": {},
   "outputs": [
    {
     "data": {
      "text/plain": [
       "DecisionTreeClassifier(criterion='entropy', max_depth=11)"
      ]
     },
     "execution_count": 16,
     "metadata": {},
     "output_type": "execute_result"
    }
   ],
   "source": [
    "model_dt = DecisionTreeClassifier(min_samples_split=2, max_depth=11, criterion='entropy')\n",
    "model_dt.fit(X_train,y_train)"
   ]
  },
  {
   "cell_type": "markdown",
   "id": "laughing-mining",
   "metadata": {},
   "source": [
    "__Avaliação do melhor modelo__"
   ]
  },
  {
   "cell_type": "markdown",
   "id": "square-orbit",
   "metadata": {},
   "source": [
    "Após os processos de validação cruzada e também de busca por melhores hiperparâmetros, a conclusão é que a regressão logística apresentou melhores resultados na base de validação.\n",
    "\n",
    "- Acurácia regressão logística: 0.9653613882200054<br>\n",
    "- Acurácia árvore de decisão: 0.8627087872185912"
   ]
  },
  {
   "cell_type": "markdown",
   "id": "earlier-lincoln",
   "metadata": {},
   "source": [
    "Teste do modelo com os dados de teste e plot da matriz de confusão."
   ]
  },
  {
   "cell_type": "code",
   "execution_count": 28,
   "id": "established-backup",
   "metadata": {},
   "outputs": [
    {
     "name": "stdout",
     "output_type": "stream",
     "text": [
      "Score: 0.9611111111111111\n"
     ]
    },
    {
     "data": {
      "image/png": "[encoded data removed]",
      "text/plain": [
       "<Figure size 432x288 with 2 Axes>"
      ]
     },
     "metadata": {
      "needs_background": "light"
     },
     "output_type": "display_data"
    },
    {
     "name": "stdout",
     "output_type": "stream",
     "text": [
      "Precision: 0.9539710144927538\n",
      "Recall: 0.9669721362229102\n",
      "F1-Score: 0.9586580959189653\n"
     ]
    }
   ],
   "source": [
    "from sklearn.metrics import precision_recall_fscore_support\n",
    "\n",
    "y_pred = model_lr.predict(X_test)\n",
    "score = model_lr.score(X_test, y_test)\n",
    "print('Score:',score)\n",
    "\n",
    "confusion_matrix = pd.crosstab(y_test, y_pred, rownames=['Actual'], colnames=['Predicted'])\n",
    "\n",
    "sn.heatmap(confusion_matrix, annot=True)\n",
    "plt.show()\n",
    "\n",
    "\n",
    "p,r,f,s = precision_recall_fscore_support(y_test, y_pred, average='macro')\n",
    "\n",
    "print('Precision:',p)\n",
    "print('Recall:',r)\n",
    "print('F1-Score:',f)"
   ]
  },
  {
   "cell_type": "markdown",
   "id": "martial-transcription",
   "metadata": {},
   "source": [
    "Gerando apenas mais uma comparação entre os modelos através da métrica ROC AUC (área abaixo da curva) e nela percebemos que a regressão logística continua obtendo melhores resultados."
   ]
  },
  {
   "cell_type": "code",
   "execution_count": 18,
   "id": "fatty-germany",
   "metadata": {},
   "outputs": [
    {
     "name": "stdout",
     "output_type": "stream",
     "text": [
      "One-vs-Rest ROC AUC scores (macro) - Regressão Logística:\n",
      " 0.9994840129309717\n",
      "One-vs-Rest ROC AUC scores (macro) - Árvore de Decisão:\n",
      " 0.9450142557200791\n"
     ]
    }
   ],
   "source": [
    "from sklearn.metrics import roc_curve, roc_auc_score\n",
    "\n",
    "y_prob_lr = model_lr.predict_proba(X_test)\n",
    "y_prob_dt = model_dt.predict_proba(X_test)\n",
    "\n",
    "macro_roc_auc_ovr_lr = roc_auc_score(y_test, y_prob_lr, multi_class=\"ovr\", average=\"macro\")\n",
    "macro_roc_auc_ovr_dt = roc_auc_score(y_test, y_prob_dt, multi_class=\"ovr\", average=\"macro\")\n",
    "\n",
    "print(\"One-vs-Rest ROC AUC scores (macro) - Regressão Logística:\\n\",macro_roc_auc_ovr_lr)\n",
    "print(\"One-vs-Rest ROC AUC scores (macro) - Árvore de Decisão:\\n\",macro_roc_auc_ovr_dt)"
   ]
  }
 ],
 "metadata": {
  "kernelspec": {
   "display_name": "Python 3",
   "language": "python",
   "name": "python3"
  },
  "language_info": {
   "codemirror_mode": {
    "name": "ipython",
    "version": 3
   },
   "file_extension": ".py",
   "mimetype": "text/x-python",
   "name": "python",
   "nbconvert_exporter": "python",
   "pygments_lexer": "ipython3",
   "version": "3.7.9"
  }
 },
 "nbformat": 4,
 "nbformat_minor": 5
}
