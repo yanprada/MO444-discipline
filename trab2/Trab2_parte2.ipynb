{
 "cells": [
  {
   "cell_type": "markdown",
   "metadata": {},
   "source": [
    "# Tarefa 2 - Parte 2\n",
    "MO444A - Aprendizado de Máquina e Reconhecimento de Padrões\n",
    "\n",
    "> Aplicação de métodos de aprendizado supervisionado para resolver problemas de predição e classificação\n",
    "\n",
    "__Alunos__:\n",
    "\n",
    "- Leonardo Augusto Silva Bernardes - RA: 233548<br>\n",
    "Desenvolveu a parte 2 do trabalho e revisou a parte 1.\n",
    "\n",
    "\n",
    "- Yan Prada - RA: 118982<br>\n",
    "Desenvolveu a parte 1 do trabalho e revisou a parte 2.\n",
    "\n",
    "Tivemos reuniões para que cada um explicasse o que estava fazendo, enquanto o outro sugerisse ou resolvesse dúvidas pendentes.\n"
   ]
  },
  {
   "cell_type": "code",
   "execution_count": 1,
   "metadata": {},
   "outputs": [],
   "source": [
    "import pandas as pd\n",
    "import numpy as np\n",
    "import matplotlib.pyplot as plt\n",
    "import seaborn as sn\n",
    "from sklearn.model_selection import GridSearchCV"
   ]
  },
  {
   "cell_type": "markdown",
   "metadata": {},
   "source": [
    "- __Carregando o dataset__\n",
    "\n",
    "Como o dataset é nativo do sklearn os dados já vem separados em \"data\" (dados de entrada) e \"target\" (variável resposta)"
   ]
  },
  {
   "cell_type": "code",
   "execution_count": 2,
   "metadata": {},
   "outputs": [],
   "source": [
    "from sklearn.datasets import load_digits\n",
    "digits = load_digits()"
   ]
  },
  {
   "cell_type": "code",
   "execution_count": 3,
   "metadata": {},
   "outputs": [],
   "source": [
    "X = digits.data\n",
    "y = digits.target"
   ]
  },
  {
   "cell_type": "markdown",
   "metadata": {},
   "source": [
    "Dimensões das features de entrada e da varíavel target"
   ]
  },
  {
   "cell_type": "code",
   "execution_count": 4,
   "metadata": {},
   "outputs": [
    {
     "name": "stdout",
     "output_type": "stream",
     "text": [
      "X: (1797, 64)\n",
      "y: (1797,)\n"
     ]
    }
   ],
   "source": [
    "print('X:',X.shape)\n",
    "print('y:',y.shape)"
   ]
  },
  {
   "cell_type": "markdown",
   "metadata": {},
   "source": [
    "Analisando a quantidade de amostras por dígito para verificar o balanceamento entre as classes. Conclui-se que as classes são balanceadas"
   ]
  },
  {
   "cell_type": "code",
   "execution_count": 5,
   "metadata": {},
   "outputs": [
    {
     "data": {
      "text/plain": [
       "{0: 178,\n",
       " 1: 182,\n",
       " 2: 177,\n",
       " 3: 183,\n",
       " 4: 181,\n",
       " 5: 182,\n",
       " 6: 181,\n",
       " 7: 179,\n",
       " 8: 174,\n",
       " 9: 180}"
      ]
     },
     "execution_count": 5,
     "metadata": {},
     "output_type": "execute_result"
    }
   ],
   "source": [
    "unique, counts = np.unique(y, return_counts=True)\n",
    "dict(zip(unique, counts))"
   ]
  },
  {
   "cell_type": "markdown",
   "metadata": {},
   "source": [
    "Redução dos dados para 2 dimensões utilizando UMAP"
   ]
  },
  {
   "cell_type": "code",
   "execution_count": 6,
   "metadata": {},
   "outputs": [
    {
     "data": {
      "text/plain": [
       "(1797, 2)"
      ]
     },
     "execution_count": 6,
     "metadata": {},
     "output_type": "execute_result"
    }
   ],
   "source": [
    "import umap\n",
    "\n",
    "reducer = umap.UMAP()\n",
    "embedding = reducer.fit_transform(X)\n",
    "embedding.shape"
   ]
  },
  {
   "cell_type": "markdown",
   "metadata": {},
   "source": [
    "Plot dos dados reduzidos"
   ]
  },
  {
   "cell_type": "code",
   "execution_count": 7,
   "metadata": {},
   "outputs": [
    {
     "data": {
      "image/png": "[encoded data removed]",
      "text/plain": [
       "<Figure size 432x288 with 2 Axes>"
      ]
     },
     "metadata": {
      "needs_background": "light"
     },
     "output_type": "display_data"
    }
   ],
   "source": [
    "plt.scatter(embedding[:, 0], embedding[:, 1], c=digits.target, cmap='Spectral', s=5)\n",
    "plt.gca().set_aspect('equal', 'datalim')\n",
    "plt.colorbar(boundaries=np.arange(11)-0.5).set_ticks(np.arange(10))\n",
    "plt.title('UMAP', fontsize=18);"
   ]
  },
  {
   "cell_type": "markdown",
   "metadata": {},
   "source": [
    "Split dos dados entre treino e teste mantendo 90% para treino e 10% para testes"
   ]
  },
  {
   "cell_type": "code",
   "execution_count": 9,
   "metadata": {},
   "outputs": [],
   "source": [
    "from sklearn.model_selection import train_test_split\n",
    "\n",
    "X_train, X_test, y_train, y_test = train_test_split(X, y, test_size = 0.1, random_state=42)"
   ]
  },
  {
   "cell_type": "markdown",
   "metadata": {},
   "source": [
    "__1º modelo supervisionado: Regressão Logística__"
   ]
  },
  {
   "cell_type": "markdown",
   "metadata": {},
   "source": [
    "Implementação do modelo de regressão logística utilizando GridSearchCV.\n",
    "\n",
    "O GridSearchCV realiza a busca de melhores hiperparâmetros utilizando validação cruzada para cada combinação de hiperparâmetros e retorna quais alcançaram um melhor score.\n",
    "\n",
    "Neste caso como é um problema de classificação, automaticamente o GridSearchCV utiliza o StratifiedKfold para a validação cruzada. O StratifiedKfold que é bastante indicado para problemas de classificação, no qual ele mantém a mesma proporção entre as classes nos folds.\n",
    "\n",
    "Foi utilizado 5 folds e os hiperparâmetros testados para a regressão logística foram:\n",
    "\n",
    "__C__: o parâmetro de regularização<br>\n",
    "__penalty__: tipo de penalização l1 (lasso) ou l2 (ridge)\n",
    "\n",
    "\n",
    "A métrica utilizada como retorno foi a própria acurácia, pois, dado o problema que queremos resolver de classificação de dígitos o que mais nos interesse é se a classificação foi feita correta ou não, e também, pelo fato dos dados serem balanceados não há problemas em utilizar a acurácia."
   ]
  },
  {
   "cell_type": "code",
   "execution_count": 20,
   "metadata": {},
   "outputs": [
    {
     "name": "stdout",
     "output_type": "stream",
     "text": [
      "Acurácia média nos dados de treino: 0.9931842107045706\n",
      "Acurácia média nos dados de validação: 0.9525553740014523\n",
      "\n",
      "Melhores parâmetros: {'C': 0.1, 'penalty': 'l1'}\n",
      "Acurácia do melhor modelo: 0.9653613882200054\n"
     ]
    }
   ],
   "source": [
    "from sklearn.linear_model import LogisticRegression\n",
    "\n",
    "valores_C = np.array([0.01, 0.05, 0.1, 0.5, 1, 2, 3, 5, 10, 20, 50, 100])\n",
    "#valores_max_iter = np.array([50, 100, 200, 300, 400, 500, 600, 700, 800, 900, 1000])\n",
    "regularizacao = ['l1','l2']\n",
    "#valores_grid = {'C':valores_C, 'penalty':regularizacao, 'max_iter':valores_max_iter}\n",
    "valores_grid = {'C':valores_C, 'penalty':regularizacao}\n",
    "\n",
    "model_lr = LogisticRegression(solver='liblinear')\n",
    "\n",
    "grid_model_lr = GridSearchCV(estimator=model_lr, param_grid=valores_grid, scoring='accuracy', cv=5,\n",
    "                            return_train_score=True)\n",
    "grid_model_lr.fit(X_train,y_train)\n",
    "\n",
    "melhor_modelo_lr = grid_model_lr.best_estimator_\n",
    "\n",
    "print('Acurácia média nos dados de treino:', grid_model_lr.cv_results_['mean_train_score'].mean())\n",
    "print('Acurácia média nos dados de validação:', grid_model_lr.cv_results_['mean_test_score'].mean())\n",
    "print('\\nMelhores parâmetros:', grid_model_lr.best_params_)\n",
    "print('Acurácia do melhor modelo:', grid_model_lr.best_score_)"
   ]
  },
  {
   "cell_type": "markdown",
   "metadata": {},
   "source": [
    "Os resultados das métricas apresentadas tanto na base de treino e quanto na base de validação apresentaram uma boa capacidade de generalização e não há evidências de overfitting ou underfitting. "
   ]
  },
  {
   "cell_type": "markdown",
   "metadata": {},
   "source": [
    "__2º modelo supervisionado: Árvore de Decisão__"
   ]
  },
  {
   "cell_type": "markdown",
   "metadata": {},
   "source": [
    "Implementação do modelo de árvore de decisão utilizando os mesmos métodos utilizando a busca de hiperparâmetros e a mesma divisão de 5 folds.\n",
    "\n",
    "A métrica utilizada como retorno também foi a acurácia pelos mesmos motivos citados no modelo de regressão logística.\n",
    "\n",
    "Os hiperparâmetros testados para a regressão logística foram:\n",
    "\n",
    "__min_samples_split___: número de amostras mínimas para considerar um nó para divisão<br>\n",
    "__max_depth__: profundidade máxima da árvore<br>\n",
    "__criterion__: medida de qualidade do split para o cálculo de ganho de informação"
   ]
  },
  {
   "cell_type": "code",
   "execution_count": 15,
   "metadata": {},
   "outputs": [
    {
     "name": "stdout",
     "output_type": "stream",
     "text": [
      "Acurácia média nos dados de treino: 0.8326851141414763\n",
      "Acurácia média nos dados de validação: 0.7473263233168511\n",
      "\n",
      "Melhores parâmetros: {'criterion': 'entropy', 'max_depth': 9, 'min_samples_split': 2}\n",
      "Acurácia do melhor modelo: 0.8608416466001605\n"
     ]
    }
   ],
   "source": [
    "from sklearn.tree import DecisionTreeClassifier\n",
    "\n",
    "min_samples_split = np.array([2,3,4,5,6,7,8,9,10,11,12,13,14,15])\n",
    "max_depth = np.array([2,3,4,5,6,7,8,9,10,11,12,13,14,15])\n",
    "algorit = ['gini','entropy']\n",
    "valores_grid = {'min_samples_split':min_samples_split,'max_depth':max_depth,'criterion':algorit}\n",
    "\n",
    "model_dt = DecisionTreeClassifier()\n",
    "\n",
    "grid_model_dt = GridSearchCV(estimator=model_dt, param_grid=valores_grid, cv=5, scoring='accuracy',\n",
    "                             return_train_score=True)\n",
    "grid_model_dt.fit(X_train,y_train)\n",
    "\n",
    "melhor_modelo_dt = grid_model_dt.best_estimator_\n",
    "\n",
    "print('Acurácia média nos dados de treino:', grid_model_dt.cv_results_['mean_train_score'].mean())\n",
    "print('Acurácia média nos dados de validação:', grid_model_dt.cv_results_['mean_test_score'].mean())\n",
    "print('\\nMelhores parâmetros:', grid_model_dt.best_params_)\n",
    "print('Acurácia do melhor modelo:', grid_model_dt.best_score_)"
   ]
  },
  {
   "cell_type": "markdown",
   "metadata": {},
   "source": [
    "Para o algoritmo de árvores de decisão os resultados das métricas apresentadas tanto na base de treino e quanto na base de validação e também o melhor modelo encontrado não obtiveram uma boa performance."
   ]
  },
  {
   "cell_type": "markdown",
   "metadata": {},
   "source": [
    "__Avaliação do melhor modelo__"
   ]
  },
  {
   "cell_type": "markdown",
   "metadata": {},
   "source": [
    "Após testar dois modelos supervisionados distintos a conclusão é que a regressão logística apresentou melhores resultados na base de validação.\n",
    "\n",
    "- Acurácia regressão logística: 0.9525550554854819<br>\n",
    "- Acurácia árvore de decisão: 0.7473263233168511"
   ]
  },
  {
   "cell_type": "markdown",
   "metadata": {},
   "source": [
    "Teste do modelo com os dados de teste e plot da matriz de confusão."
   ]
  },
  {
   "cell_type": "code",
   "execution_count": 16,
   "metadata": {},
   "outputs": [
    {
     "name": "stdout",
     "output_type": "stream",
     "text": [
      "Score: 0.9611111111111111\n"
     ]
    },
    {
     "data": {
      "image/png": "[encoded data removed]",
      "text/plain": [
       "<Figure size 432x288 with 2 Axes>"
      ]
     },
     "metadata": {
      "needs_background": "light"
     },
     "output_type": "display_data"
    },
    {
     "name": "stdout",
     "output_type": "stream",
     "text": [
      "Precision: 0.9539710144927538\n",
      "Recall: 0.9669721362229102\n",
      "F1-Score: 0.9586580959189653\n"
     ]
    }
   ],
   "source": [
    "from sklearn.metrics import precision_recall_fscore_support\n",
    "\n",
    "y_pred = melhor_modelo_lr.predict(X_test)\n",
    "score = melhor_modelo_lr.score(X_test, y_test)\n",
    "print('Score:',score)\n",
    "\n",
    "confusion_matrix = pd.crosstab(y_test, y_pred, rownames=['Actual'], colnames=['Predicted'])\n",
    "\n",
    "sn.heatmap(confusion_matrix, annot=True)\n",
    "plt.show()\n",
    "\n",
    "\n",
    "p,r,f,s = precision_recall_fscore_support(y_test, y_pred, average='macro')\n",
    "\n",
    "print('Precision:',p)\n",
    "print('Recall:',r)\n",
    "print('F1-Score:',f)"
   ]
  },
  {
   "cell_type": "markdown",
   "metadata": {},
   "source": [
    "Gerando apenas mais uma comparação entre os modelos através da métrica ROC AUC (área abaixo da curva) e nela percebemos que a regressão logística continua obtendo melhores resultados."
   ]
  },
  {
   "cell_type": "code",
   "execution_count": 17,
   "metadata": {},
   "outputs": [
    {
     "name": "stdout",
     "output_type": "stream",
     "text": [
      "One-vs-Rest ROC AUC scores (macro) - Regressão Logística:\n",
      " 0.9994840129309717\n",
      "One-vs-Rest ROC AUC scores (macro) - Árvore de Decisão:\n",
      " 0.9573049905570127\n"
     ]
    }
   ],
   "source": [
    "from sklearn.metrics import roc_curve, roc_auc_score\n",
    "\n",
    "y_prob_lr = melhor_modelo_lr.predict_proba(X_test)\n",
    "y_prob_dt = melhor_modelo_dt.predict_proba(X_test)\n",
    "\n",
    "macro_roc_auc_ovr_lr = roc_auc_score(y_test, y_prob_lr, multi_class=\"ovr\", average=\"macro\")\n",
    "macro_roc_auc_ovr_dt = roc_auc_score(y_test, y_prob_dt, multi_class=\"ovr\", average=\"macro\")\n",
    "\n",
    "print(\"One-vs-Rest ROC AUC scores (macro) - Regressão Logística:\\n\",macro_roc_auc_ovr_lr)\n",
    "print(\"One-vs-Rest ROC AUC scores (macro) - Árvore de Decisão:\\n\",macro_roc_auc_ovr_dt)"
   ]
  }
 ],
 "metadata": {
  "kernelspec": {
   "display_name": "Python 3",
   "language": "python",
   "name": "python3"
  },
  "language_info": {
   "codemirror_mode": {
    "name": "ipython",
    "version": 3
   },
   "file_extension": ".py",
   "mimetype": "text/x-python",
   "name": "python",
   "nbconvert_exporter": "python",
   "pygments_lexer": "ipython3",
   "version": "3.8.5"
  }
 },
 "nbformat": 4,
 "nbformat_minor": 5
}
