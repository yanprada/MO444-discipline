{
 "cells": [
  {
   "cell_type": "markdown",
   "metadata": {},
   "source": [
    "## Importando as bibliotecas"
   ]
  },
  {
   "cell_type": "code",
   "execution_count": 3,
   "metadata": {},
   "outputs": [],
   "source": [
    "import pandas as pd\n",
    "import numpy as np\n",
    "import matplotlib.pyplot as plt\n",
    "import matplotlib.colors as colors\n",
    "from matplotlib import cm\n",
    "from mpl_toolkits.mplot3d import Axes3D\n",
    "from matplotlib.patches import Arc, Rectangle, ConnectionPatch"
   ]
  },
  {
   "cell_type": "markdown",
   "metadata": {},
   "source": [
    "## Importando os chutes:"
   ]
  },
  {
   "cell_type": "code",
   "execution_count": 9,
   "metadata": {},
   "outputs": [],
   "source": [
    "kick1=np.loadtxt( 'kick1.dat' )\n",
    "kick1=pd.DataFrame(kick1)\n",
    "kick2=np.loadtxt( 'kick2.dat' )\n",
    "kick2=pd.DataFrame(kick2)\n",
    "kick1.columns=['z','y','x']\n",
    "kick2.columns=['z','y','x']"
   ]
  },
  {
   "cell_type": "markdown",
   "metadata": {},
   "source": [
    "## Função que imprime o campo:"
   ]
  },
  {
   "cell_type": "code",
   "execution_count": 10,
   "metadata": {},
   "outputs": [],
   "source": [
    "def draw_pitch(ax,p):\n",
    "    # size of the pitch is 120, 80\n",
    "    #Create figure\n",
    "\n",
    "    #Pitch Outline & Centre Line\n",
    "    plt.plot([0*p,0*p],[-40*p,40*p], color=\"black\")\n",
    "    plt.plot([0*p,120*p],[40*p,40*p], color=\"black\")\n",
    "    plt.plot([120*p,120*p],[40*p,-40*p], color=\"black\")\n",
    "    plt.plot([120*p,0*p],[-40*p,-40*p], color=\"black\")\n",
    "    plt.plot([60*p,60*p],[-40*p,40*p], color=\"black\")\n",
    "\n",
    "    #Left Penalty Area\n",
    "    plt.plot([14.6*p,14.6*p],[17.8*p,-17.5*p],color=\"black\")\n",
    "    plt.plot([0*p,14.6*p],[17.8*p,17.5*p],color=\"black\")\n",
    "    plt.plot([0*p,14.6*p],[-17.5*p,-17.5*p],color=\"black\")\n",
    "\n",
    "    #Right Penalty Area\n",
    "    plt.plot([120*p,105.4*p],[17.8*p,17.8*p],color=\"black\")\n",
    "    plt.plot([105.4*p,105.4*p],[17.8*p,-17.5*p],color=\"black\")\n",
    "    plt.plot([120*p, 105.4*p],[-17.5*p,-17.5*p],color=\"black\")\n",
    "\n",
    "    #Left 6-yard Box\n",
    "    plt.plot([0*p,4.9*p],[8*p,8*p],color=\"black\")\n",
    "    plt.plot([4.9*p,4.9*p],[8*p,-8*p],color=\"black\")\n",
    "    plt.plot([0*p,4.9*p],[-8*p,-8*p],color=\"black\")\n",
    "\n",
    "    #Right 6-yard Box\n",
    "    plt.plot([120*p,115.1*p],[8*p,8*p],color=\"black\")\n",
    "    plt.plot([115.1*p,115.1*p],[8*p,-8*p],color=\"black\")\n",
    "    plt.plot([120*p,115.1*p],[-8*p,-8*p],color=\"black\")\n",
    "\n",
    "    #Prepare Circles\n",
    "    centreCircle = plt.Circle((60*p,0*p),8.1*p,color=\"black\",fill=False)\n",
    "    centreSpot = plt.Circle((60*p,0*p),0.71*p,color=\"black\")\n",
    "    leftPenSpot = plt.Circle((9.7*p,0*p),0.71*p,color=\"black\")\n",
    "    rightPenSpot = plt.Circle((110.3*p,0*p),0.71*p,color=\"black\")\n",
    "\n",
    "    #Draw Circles\n",
    "    ax.add_patch(centreCircle)\n",
    "    ax.add_patch(centreSpot)\n",
    "    ax.add_patch(leftPenSpot)\n",
    "    ax.add_patch(rightPenSpot)\n",
    "\n",
    "    #Prepare Arcs\n",
    "    # arguments for arc\n",
    "    # x, y coordinate of centerpoint of arc\n",
    "    # width, height as arc might not be circle, but oval\n",
    "    # angle: degree of rotation of the shape, anti-clockwise\n",
    "    # theta1, theta2, start and end location of arc in degree\n",
    "    leftArc = Arc((9.7*p,0*p),height=16.2*p,width=16.2*p,angle=0,theta1=310,theta2=50,color=\"black\")\n",
    "    rightArc = Arc((110.3*p,0*p),height=16.2*p,width=16.2*p,angle=0,theta1=130,theta2=230,color=\"black\")\n",
    "\n",
    "    #Draw Arcs\n",
    "    ax.add_patch(leftArc)\n",
    "    ax.add_patch(rightArc)"
   ]
  },
  {
   "cell_type": "markdown",
   "metadata": {},
   "source": [
    "## Verificando os chutes no campo:"
   ]
  },
  {
   "cell_type": "code",
   "execution_count": 11,
   "metadata": {},
   "outputs": [
    {
     "data": {
      "image/png": "[encoded data removed]",
      "text/plain": [
       "<Figure size 864x504 with 1 Axes>"
      ]
     },
     "metadata": {
      "needs_background": "light"
     },
     "output_type": "display_data"
    }
   ],
   "source": [
    "x1=kick1.x\n",
    "y1=kick1.y\n",
    "z1=kick1.z\n",
    "\n",
    "x2=kick2.x\n",
    "y2=kick2.y\n",
    "z2=kick2.z\n",
    "fig=plt.figure()\n",
    "fig.set_size_inches(12, 7)\n",
    "ax=fig.add_subplot(1,1,1)\n",
    "draw_pitch(ax,0.07)\n",
    "plt.scatter(y1, z1)\n",
    "plt.scatter(y2, z2)\n",
    "plt.show()"
   ]
  },
  {
   "cell_type": "code",
   "execution_count": null,
   "metadata": {},
   "outputs": [],
   "source": []
  }
 ],
 "metadata": {
  "kernelspec": {
   "display_name": "Python 3",
   "language": "python",
   "name": "python3"
  },
  "language_info": {
   "codemirror_mode": {
    "name": "ipython",
    "version": 3
   },
   "file_extension": ".py",
   "mimetype": "text/x-python",
   "name": "python",
   "nbconvert_exporter": "python",
   "pygments_lexer": "ipython3",
   "version": "3.8.5"
  }
 },
 "nbformat": 4,
 "nbformat_minor": 4
}
