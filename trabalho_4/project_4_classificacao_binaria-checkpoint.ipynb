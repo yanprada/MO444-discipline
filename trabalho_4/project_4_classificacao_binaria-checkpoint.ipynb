{
 "cells": [
  {
   "cell_type": "code",
   "execution_count": 1,
   "id": "9165211b",
   "metadata": {},
   "outputs": [
    {
     "name": "stderr",
     "output_type": "stream",
     "text": [
      "[nltk_data] Downloading package stopwords to\n",
      "[nltk_data]     C:\\Users\\Leonardo\\AppData\\Roaming\\nltk_data...\n",
      "[nltk_data]   Package stopwords is already up-to-date!\n",
      "[nltk_data] Downloading package wordnet to\n",
      "[nltk_data]     C:\\Users\\Leonardo\\AppData\\Roaming\\nltk_data...\n",
      "[nltk_data]   Package wordnet is already up-to-date!\n"
     ]
    }
   ],
   "source": [
    "import pandas as pd\n",
    "import numpy as np\n",
    "import re\n",
    "import nltk\n",
    "nltk.download('stopwords')\n",
    "nltk.download('wordnet')\n",
    "import pickle\n",
    "from nltk.corpus import stopwords\n",
    "\n",
    "df_sample_submission = pd.read_csv('.ipynb_checkpoints/sample_submission.csv')\n",
    "df_train = pd.read_csv('.ipynb_checkpoints/train.csv')\n",
    "df_test_labels = pd.read_csv('.ipynb_checkpoints/test_labels.csv')\n",
    "df_test = pd.read_csv('.ipynb_checkpoints/test.csv')"
   ]
  },
  {
   "cell_type": "code",
   "execution_count": 2,
   "id": "eecbcd9c",
   "metadata": {},
   "outputs": [
    {
     "data": {
      "text/plain": [
       "(159571, 8)"
      ]
     },
     "execution_count": 2,
     "metadata": {},
     "output_type": "execute_result"
    }
   ],
   "source": [
    "df_train.shape"
   ]
  },
  {
   "cell_type": "code",
   "execution_count": 3,
   "id": "a5251d7c",
   "metadata": {},
   "outputs": [
    {
     "data": {
      "text/html": [
       "<div>\n",
       "<style scoped>\n",
       "    .dataframe tbody tr th:only-of-type {\n",
       "        vertical-align: middle;\n",
       "    }\n",
       "\n",
       "    .dataframe tbody tr th {\n",
       "        vertical-align: top;\n",
       "    }\n",
       "\n",
       "    .dataframe thead th {\n",
       "        text-align: right;\n",
       "    }\n",
       "</style>\n",
       "<table border=\"1\" class=\"dataframe\">\n",
       "  <thead>\n",
       "    <tr style=\"text-align: right;\">\n",
       "      <th></th>\n",
       "      <th>id</th>\n",
       "      <th>comment_text</th>\n",
       "      <th>toxic</th>\n",
       "      <th>severe_toxic</th>\n",
       "      <th>obscene</th>\n",
       "      <th>threat</th>\n",
       "      <th>insult</th>\n",
       "      <th>identity_hate</th>\n",
       "    </tr>\n",
       "  </thead>\n",
       "  <tbody>\n",
       "    <tr>\n",
       "      <th>0</th>\n",
       "      <td>0000997932d777bf</td>\n",
       "      <td>Explanation\\nWhy the edits made under my usern...</td>\n",
       "      <td>0</td>\n",
       "      <td>0</td>\n",
       "      <td>0</td>\n",
       "      <td>0</td>\n",
       "      <td>0</td>\n",
       "      <td>0</td>\n",
       "    </tr>\n",
       "    <tr>\n",
       "      <th>1</th>\n",
       "      <td>000103f0d9cfb60f</td>\n",
       "      <td>D'aww! He matches this background colour I'm s...</td>\n",
       "      <td>0</td>\n",
       "      <td>0</td>\n",
       "      <td>0</td>\n",
       "      <td>0</td>\n",
       "      <td>0</td>\n",
       "      <td>0</td>\n",
       "    </tr>\n",
       "    <tr>\n",
       "      <th>2</th>\n",
       "      <td>000113f07ec002fd</td>\n",
       "      <td>Hey man, I'm really not trying to edit war. It...</td>\n",
       "      <td>0</td>\n",
       "      <td>0</td>\n",
       "      <td>0</td>\n",
       "      <td>0</td>\n",
       "      <td>0</td>\n",
       "      <td>0</td>\n",
       "    </tr>\n",
       "    <tr>\n",
       "      <th>3</th>\n",
       "      <td>0001b41b1c6bb37e</td>\n",
       "      <td>\"\\nMore\\nI can't make any real suggestions on ...</td>\n",
       "      <td>0</td>\n",
       "      <td>0</td>\n",
       "      <td>0</td>\n",
       "      <td>0</td>\n",
       "      <td>0</td>\n",
       "      <td>0</td>\n",
       "    </tr>\n",
       "    <tr>\n",
       "      <th>4</th>\n",
       "      <td>0001d958c54c6e35</td>\n",
       "      <td>You, sir, are my hero. Any chance you remember...</td>\n",
       "      <td>0</td>\n",
       "      <td>0</td>\n",
       "      <td>0</td>\n",
       "      <td>0</td>\n",
       "      <td>0</td>\n",
       "      <td>0</td>\n",
       "    </tr>\n",
       "  </tbody>\n",
       "</table>\n",
       "</div>"
      ],
      "text/plain": [
       "                 id                                       comment_text  toxic  \\\n",
       "0  0000997932d777bf  Explanation\\nWhy the edits made under my usern...      0   \n",
       "1  000103f0d9cfb60f  D'aww! He matches this background colour I'm s...      0   \n",
       "2  000113f07ec002fd  Hey man, I'm really not trying to edit war. It...      0   \n",
       "3  0001b41b1c6bb37e  \"\\nMore\\nI can't make any real suggestions on ...      0   \n",
       "4  0001d958c54c6e35  You, sir, are my hero. Any chance you remember...      0   \n",
       "\n",
       "   severe_toxic  obscene  threat  insult  identity_hate  \n",
       "0             0        0       0       0              0  \n",
       "1             0        0       0       0              0  \n",
       "2             0        0       0       0              0  \n",
       "3             0        0       0       0              0  \n",
       "4             0        0       0       0              0  "
      ]
     },
     "execution_count": 3,
     "metadata": {},
     "output_type": "execute_result"
    }
   ],
   "source": [
    "df_train.head()"
   ]
  },
  {
   "cell_type": "code",
   "execution_count": 4,
   "id": "3760d98e",
   "metadata": {},
   "outputs": [],
   "source": [
    "df_sample_0 = df_train[df_train['toxic']==0]\n",
    "df_sample_0 = df_sample_0.sample(n=15294)\n",
    "df_sample_1 = df_train[df_train['toxic']==1]\n",
    "\n",
    "# pass dataframes as a list\n",
    "df_train = pd.concat([df_sample_0,df_sample_1], ignore_index=True)"
   ]
  },
  {
   "cell_type": "code",
   "execution_count": 5,
   "id": "6eefe502",
   "metadata": {},
   "outputs": [],
   "source": [
    "X = df_train['comment_text']\n",
    "y = df_train['toxic']"
   ]
  },
  {
   "cell_type": "code",
   "execution_count": 6,
   "id": "606965da",
   "metadata": {},
   "outputs": [
    {
     "data": {
      "text/plain": [
       "0    15294\n",
       "1    15294\n",
       "Name: toxic, dtype: int64"
      ]
     },
     "execution_count": 6,
     "metadata": {},
     "output_type": "execute_result"
    }
   ],
   "source": [
    "y.value_counts()"
   ]
  },
  {
   "cell_type": "code",
   "execution_count": 7,
   "id": "e28377a5",
   "metadata": {},
   "outputs": [],
   "source": [
    "comments = []\n",
    "\n",
    "from nltk.stem import WordNetLemmatizer\n",
    "\n",
    "wnl = WordNetLemmatizer()\n",
    "\n",
    "for i in range(0, len(X)):\n",
    "    \n",
    "    # remove caracteres especiais\n",
    "    comment = re.sub(r'\\W', ' ', str(df_train['comment_text'][i]))\n",
    "    \n",
    "    # remove carecteres únicos\n",
    "    comment = re.sub(r'\\s+[a-zA-Z]\\s+', ' ', comment)\n",
    "   \n",
    "    # remove caracteres únicos do início\n",
    "    comment = re.sub(r'\\^[a-zA-Z]\\s+', ' ', comment) \n",
    "    \n",
    "    # substitui multiplos espaços para um simples espaço\n",
    "    comment = re.sub(r'\\s+', ' ', comment, flags=re.I)\n",
    "    \n",
    "    # remove prefixo 'b'\n",
    "    comment = re.sub(r'^b\\s+', '', comment)\n",
    "    \n",
    "    # minúsculo\n",
    "    comment = comment.lower()\n",
    "    \n",
    "    # Lemmatization\n",
    "    comment = comment.split()\n",
    "\n",
    "    comment = [wnl.lemmatize(j) for j in comment]\n",
    "    comment = ' '.join(comment)\n",
    "    \n",
    "    comments.append(comment)"
   ]
  },
  {
   "cell_type": "code",
   "execution_count": 8,
   "id": "463829e1",
   "metadata": {},
   "outputs": [],
   "source": [
    "from sklearn.feature_extraction.text import CountVectorizer\n",
    "\n",
    "vectorizer = CountVectorizer(max_features=500, min_df=5, max_df=0.7, stop_words=stopwords.words('english'))\n",
    "\n",
    "X = vectorizer.fit_transform(comments).toarray()"
   ]
  },
  {
   "cell_type": "code",
   "execution_count": 9,
   "id": "7efb52e9",
   "metadata": {},
   "outputs": [],
   "source": [
    "from sklearn.feature_extraction.text import TfidfTransformer\n",
    "\n",
    "tfidfconverter = TfidfTransformer()\n",
    "\n",
    "X = tfidfconverter.fit_transform(X).toarray()"
   ]
  },
  {
   "cell_type": "code",
   "execution_count": 10,
   "id": "d73deadc",
   "metadata": {},
   "outputs": [],
   "source": [
    "from sklearn.model_selection import train_test_split\n",
    "X_train, X_test, y_train, y_test = train_test_split(X, y, test_size=0.2, random_state=0)"
   ]
  },
  {
   "cell_type": "markdown",
   "id": "d68b3ceb",
   "metadata": {},
   "source": [
    "Random Forest"
   ]
  },
  {
   "cell_type": "code",
   "execution_count": 11,
   "id": "4fd00cf5",
   "metadata": {},
   "outputs": [
    {
     "name": "stdout",
     "output_type": "stream",
     "text": [
      "Acurácia - Base de Treino: 0.9799652635880669\n",
      "Acurácia - Base de Validação: 0.8480997139354312\n"
     ]
    }
   ],
   "source": [
    "from sklearn.ensemble import RandomForestClassifier\n",
    "from sklearn.model_selection import KFold, StratifiedKFold, GridSearchCV\n",
    "from sklearn.model_selection import cross_validate\n",
    "\n",
    "StratKFold = StratifiedKFold(n_splits=5)\n",
    "\n",
    "classifier = RandomForestClassifier(random_state=0, n_jobs=-1)\n",
    "result_classifier = cross_validate(classifier, X_train, y_train, cv=StratKFold, scoring='accuracy', return_train_score=True)\n",
    "    \n",
    "print('Acurácia - Base de Treino:',result_classifier['train_score'].mean())\n",
    "print('Acurácia - Base de Validação:',result_classifier['test_score'].mean())"
   ]
  },
  {
   "cell_type": "code",
   "execution_count": 12,
   "id": "19e3f9c4",
   "metadata": {},
   "outputs": [
    {
     "name": "stdout",
     "output_type": "stream",
     "text": [
      "Acurácia média nos dados de treino: 0.9394102472415202\n",
      "Acurácia média nos dados de validação: 0.8388874131589702\n",
      "\n",
      "Melhores parâmetros: {'max_depth': 165}\n",
      "Acurácia do melhor modelo: 0.8476093175316715\n"
     ]
    }
   ],
   "source": [
    "import numpy as np\n",
    "from sklearn.model_selection import KFold, StratifiedKFold, GridSearchCV\n",
    "from sklearn.ensemble import RandomForestClassifier\n",
    "\n",
    "max_depth = np.array([5,10,15,20,25,30,35,40,45,50,55,60,65,70,75,80,85,90,95,100,105,110,115,120,125,130,135,140,145,\n",
    "                     150,155,160,165,170,175,180,185,190,195,200])\n",
    "\n",
    "values_grid = {'max_depth':max_depth}\n",
    "\n",
    "classifier = RandomForestClassifier(random_state=0, n_jobs=-1)\n",
    "\n",
    "grid_classifier = GridSearchCV(estimator=classifier, param_grid=values_grid, cv=5, scoring='accuracy',\n",
    "                               return_train_score=True)\n",
    "grid_classifier.fit(X_train,y_train)\n",
    "\n",
    "best_classifier = grid_classifier.best_estimator_\n",
    "\n",
    "print('Acurácia média nos dados de treino:', grid_classifier.cv_results_['mean_train_score'].mean())\n",
    "print('Acurácia média nos dados de validação:', grid_classifier.cv_results_['mean_test_score'].mean())\n",
    "print('\\nMelhores parâmetros:', grid_classifier.best_params_)\n",
    "print('Acurácia do melhor modelo:', grid_classifier.best_score_)"
   ]
  },
  {
   "cell_type": "code",
   "execution_count": 13,
   "id": "7a87d5e9",
   "metadata": {},
   "outputs": [
    {
     "data": {
      "image/png": "[encoded data removed]",
      "text/plain": [
       "<Figure size 432x288 with 1 Axes>"
      ]
     },
     "metadata": {
      "needs_background": "light"
     },
     "output_type": "display_data"
    }
   ],
   "source": [
    "import pandas as pd\n",
    "import matplotlib.pyplot as plt\n",
    "\n",
    "df_cv = pd.DataFrame(grid_classifier.cv_results_)\n",
    "\n",
    "plt.plot(df_cv['param_max_depth'],df_cv['mean_train_score'], label='Train')\n",
    "plt.plot(df_cv['param_max_depth'],df_cv['mean_test_score'], label='Test')\n",
    "plt.xlabel('Max Depth')\n",
    "plt.ylabel('Accuracy')\n",
    "plt.legend()\n",
    "plt.show()\n"
   ]
  },
  {
   "cell_type": "code",
   "execution_count": 14,
   "id": "f43f727a",
   "metadata": {},
   "outputs": [
    {
     "data": {
      "text/plain": [
       "RandomForestClassifier(max_depth=25, n_jobs=-1, random_state=0)"
      ]
     },
     "execution_count": 14,
     "metadata": {},
     "output_type": "execute_result"
    }
   ],
   "source": [
    "from sklearn.ensemble import RandomForestClassifier\n",
    "classifier = RandomForestClassifier(max_depth=25, random_state=0, n_jobs=-1)\n",
    "classifier.fit(X_train, y_train) "
   ]
  },
  {
   "cell_type": "code",
   "execution_count": 15,
   "id": "2cf1c15e",
   "metadata": {},
   "outputs": [],
   "source": [
    "y_pred = classifier.predict(X_test)"
   ]
  },
  {
   "cell_type": "code",
   "execution_count": 16,
   "id": "9da8f91e",
   "metadata": {},
   "outputs": [
    {
     "name": "stdout",
     "output_type": "stream",
     "text": [
      "[[2910  153]\n",
      " [ 896 2159]]\n",
      "              precision    recall  f1-score   support\n",
      "\n",
      "           0       0.76      0.95      0.85      3063\n",
      "           1       0.93      0.71      0.80      3055\n",
      "\n",
      "    accuracy                           0.83      6118\n",
      "   macro avg       0.85      0.83      0.83      6118\n",
      "weighted avg       0.85      0.83      0.83      6118\n",
      "\n",
      "0.8285387381497221\n"
     ]
    }
   ],
   "source": [
    "from sklearn.metrics import classification_report, confusion_matrix, accuracy_score\n",
    "\n",
    "print(confusion_matrix(y_test,y_pred))\n",
    "print(classification_report(y_test,y_pred))\n",
    "print(accuracy_score(y_test, y_pred))"
   ]
  },
  {
   "cell_type": "markdown",
   "id": "e1e77772",
   "metadata": {},
   "source": [
    "SVM"
   ]
  },
  {
   "cell_type": "code",
   "execution_count": null,
   "id": "7769ceb8",
   "metadata": {},
   "outputs": [],
   "source": [
    "from sklearn import svm\n",
    "from sklearn.model_selection import KFold, StratifiedKFold, GridSearchCV\n",
    "from sklearn.model_selection import cross_validate\n",
    "\n",
    "StratKFold = StratifiedKFold(n_splits=5)\n",
    "\n",
    "classifier = svm.SVC(kernel='linear')\n",
    "result_classifier = cross_validate(classifier, X_train, y_train, cv=StratKFold, scoring='accuracy', return_train_score=True,\n",
    "                                  return_estimator=True)\n",
    "    \n",
    "print('Acurácia - Base de Treino:',result_classifier['train_score'].mean())\n",
    "print('Acurácia - Base de Validação:',result_classifier['test_score'].mean())"
   ]
  },
  {
   "cell_type": "code",
   "execution_count": null,
   "id": "37531596",
   "metadata": {},
   "outputs": [],
   "source": [
    "import numpy as np\n",
    "from sklearn.model_selection import KFold, StratifiedKFold, GridSearchCV\n",
    "from sklearn import svm\n",
    "\n",
    "kernel = np.array(['linear','poly','rbf','sigmoid','precomputed'])\n",
    "\n",
    "values_grid = {'kernel':kernel}\n",
    "\n",
    "classifier = svm.SVC()\n",
    "\n",
    "grid_classifier = GridSearchCV(estimator=classifier, param_grid=values_grid, cv=5, scoring='accuracy',\n",
    "                               return_train_score=True)\n",
    "grid_classifier.fit(X_train,y_train)\n",
    "\n",
    "best_classifier = grid_classifier.best_estimator_\n",
    "\n",
    "print('Acurácia média nos dados de treino:', grid_classifier.cv_results_['mean_train_score'].mean())\n",
    "print('Acurácia média nos dados de validação:', grid_classifier.cv_results_['mean_test_score'].mean())\n",
    "print('\\nMelhores parâmetros:', grid_classifier.best_params_)\n",
    "print('Acurácia do melhor modelo:', grid_classifier.best_score_)"
   ]
  },
  {
   "cell_type": "code",
   "execution_count": null,
   "id": "0bb95c63",
   "metadata": {},
   "outputs": [],
   "source": [
    "from sklearn import svm\n",
    "\n",
    "classifier = svm.SVC(kernel='linear')\n",
    "classifier.fit(X_train, y_train)"
   ]
  },
  {
   "cell_type": "code",
   "execution_count": null,
   "id": "de518178",
   "metadata": {},
   "outputs": [],
   "source": [
    "y_pred = classifier.predict(X_test)"
   ]
  },
  {
   "cell_type": "code",
   "execution_count": null,
   "id": "b5805e39",
   "metadata": {},
   "outputs": [],
   "source": [
    "from sklearn.metrics import classification_report, confusion_matrix, accuracy_score\n",
    "\n",
    "print(confusion_matrix(y_test,y_pred))\n",
    "print(classification_report(y_test,y_pred))\n",
    "print(accuracy_score(y_test, y_pred))"
   ]
  }
 ],
 "metadata": {
  "kernelspec": {
   "display_name": "Python 3",
   "language": "python",
   "name": "python3"
  },
  "language_info": {
   "codemirror_mode": {
    "name": "ipython",
    "version": 3
   },
   "file_extension": ".py",
   "mimetype": "text/x-python",
   "name": "python",
   "nbconvert_exporter": "python",
   "pygments_lexer": "ipython3",
   "version": "3.7.10"
  }
 },
 "nbformat": 4,
 "nbformat_minor": 5
}
